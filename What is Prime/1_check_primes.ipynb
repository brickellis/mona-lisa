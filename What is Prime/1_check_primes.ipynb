{
 "cells": [
  {
   "cell_type": "code",
   "execution_count": null,
   "metadata": {},
   "outputs": [],
   "source": [
    "import json\n",
    "\n",
    "responses = []\n",
    "with open('batchoutput.jsonl', 'r') as file:\n",
    "    for line in file:\n",
    "        responses.append(json.loads(line))"
   ]
  },
  {
   "cell_type": "code",
   "execution_count": null,
   "metadata": {},
   "outputs": [],
   "source": [
    "def is_prime(n): \n",
    "    if n <= 3:\n",
    "        return True # Debatable\n",
    "    \n",
    "    i = 2\n",
    "    while i * i <= n:\n",
    "        if n % i == 0:\n",
    "            return False\n",
    "        i += 1\n",
    "\n",
    "    return True\n",
    "\n",
    "def str_to_bool(s):\n",
    "    if s.strip().lower() in ['true']:\n",
    "        return True\n",
    "    if s.strip().lower() in ['false']:\n",
    "        return False\n",
    "    print(s)\n",
    "    return\n",
    "\n",
    "results = []\n",
    "for r in responses:\n",
    "    num = int(r['custom_id'][5:])\n",
    "    gpt_response = str_to_bool(json.loads(r['response']['body']['choices'][0]['message']['content'])['answer'])\n",
    "    check = is_prime(num)\n",
    "    results.append((num, gpt_response, check))"
   ]
  },
  {
   "cell_type": "code",
   "execution_count": null,
   "metadata": {},
   "outputs": [],
   "source": [
    "from PIL import Image\n",
    "from collections import Counter\n",
    "\n",
    "width = 250\n",
    "height = 200\n",
    "img = Image.new('RGB', (width, height))\n",
    "color_map = {\n",
    "    (True, True): (0, 255, 0),\n",
    "    (False, False): (0, 0, 0),\n",
    "    (True, False): (255, 0, 0),\n",
    "    (False, True): (255, 165, 0)\n",
    "}\n",
    "\n",
    "pixels = img.load()\n",
    "\n",
    "for i in range(height):\n",
    "    for j in range(width):\n",
    "        index = i * width + j\n",
    "        _, bool1, bool2 = results[index]\n",
    "        pixels[j, i] = color_map[(bool1, bool2)]\n",
    "\n",
    "img.save('primes.png')"
   ]
  }
 ],
 "metadata": {
  "kernelspec": {
   "display_name": "Python 3",
   "language": "python",
   "name": "python3"
  },
  "language_info": {
   "codemirror_mode": {
    "name": "ipython",
    "version": 3
   },
   "file_extension": ".py",
   "mimetype": "text/x-python",
   "name": "python",
   "nbconvert_exporter": "python",
   "pygments_lexer": "ipython3",
   "version": "3.10.13"
  },
  "orig_nbformat": 4
 },
 "nbformat": 4,
 "nbformat_minor": 2
}
