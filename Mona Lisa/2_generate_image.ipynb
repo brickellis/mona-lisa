{
 "cells": [
  {
   "cell_type": "code",
   "execution_count": null,
   "metadata": {},
   "outputs": [],
   "source": [
    "import json\n",
    "from PIL import Image\n",
    "\n",
    "responses = []\n",
    "with open('batchoutput2.jsonl', 'r') as file:\n",
    "    for line in file:\n",
    "        responses.append(json.loads(line))\n",
    "\n",
    "print(len(responses))"
   ]
  },
  {
   "cell_type": "code",
   "execution_count": null,
   "metadata": {},
   "outputs": [],
   "source": [
    "results = []\n",
    "for r in responses:\n",
    "    color = json.loads(r['response']['body']['choices'][0]['message']['content'])['hexadecimal']\n",
    "    coords = [int(a) for a in r['custom_id'][5:].split('_')]\n",
    "    results.append((coords, color))"
   ]
  },
  {
   "cell_type": "code",
   "execution_count": null,
   "metadata": {},
   "outputs": [],
   "source": [
    "max_x = max(pixel[0][0] for pixel in results)\n",
    "max_y = max(pixel[0][1] for pixel in results)\n",
    "\n",
    "img = Image.new('RGB', (max_x + 1, max_y + 1), 'white')\n",
    "pixels_access = img.load()\n",
    "\n",
    "for (x, y), color in results:\n",
    "    pixels_access[x, y] = tuple(int(color[i:i+2], 16) for i in (1, 3, 5))\n",
    "\n",
    "img.save('imgs/recreation.jpg')"
   ]
  },
  {
   "cell_type": "code",
   "execution_count": null,
   "metadata": {},
   "outputs": [],
   "source": [
    "from PIL import Image\n",
    "import numpy as np\n",
    "\n",
    "image1 = Image.open('imgs/input.jpg').convert('RGB')\n",
    "image2 = Image.open('imgs/recreation.jpg').convert('RGB')\n",
    "\n",
    "arr1 = np.array(image1).astype(np.int16)\n",
    "arr2 = np.array(image2).astype(np.int16)\n",
    "\n",
    "distances = np.linalg.norm(arr1 - arr2, axis=2)\n",
    "distances_normalized = 255 - (255 * distances / np.sqrt(3 * (255**2))).astype(np.uint8)\n",
    "grayscale_image = Image.fromarray(distances_normalized)\n",
    "grayscale_image.save('imgs/distances.png')"
   ]
  }
 ],
 "metadata": {
  "kernelspec": {
   "display_name": "Python 3",
   "language": "python",
   "name": "python3"
  },
  "language_info": {
   "codemirror_mode": {
    "name": "ipython",
    "version": 3
   },
   "file_extension": ".py",
   "mimetype": "text/x-python",
   "name": "python",
   "nbconvert_exporter": "python",
   "pygments_lexer": "ipython3",
   "version": "3.10.13"
  },
  "orig_nbformat": 4
 },
 "nbformat": 4,
 "nbformat_minor": 2
}
